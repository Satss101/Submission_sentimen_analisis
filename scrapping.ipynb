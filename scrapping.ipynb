{
 "cells": [
  {
   "cell_type": "markdown",
   "id": "c8d74009",
   "metadata": {},
   "source": [
    "# Proyek Analisis Sentimen\n",
    "- **Nama:** Bagus Satrio Wicaksono\n",
    "- **Email:** bsatrio121@gmail.com\n",
    "- **ID Dicoding:** satss121"
   ]
  },
  {
   "cell_type": "code",
   "execution_count": 2,
   "id": "e36afec9",
   "metadata": {},
   "outputs": [],
   "source": [
    "# Menyimpan ulasan dalam file CSV\n",
    "import csv\n",
    "import pandas as pd\n",
    "\n",
    "# Mengimpor pustaka google_play_scraper untuk mengakses ulasan dan informasi aplikasi dari Google Play Store.\n",
    "from google_play_scraper import reviews_all, Sort # type: ignore"
   ]
  },
  {
   "cell_type": "markdown",
   "id": "ea6f3336",
   "metadata": {},
   "source": [
    "Perintah di atas akan mengunduh dan menginstal pustaka google_play_scraper serta dependensinya jika diperlukan. Setelah instalasi selesai, Anda dapat mengimpor dan menggunakannya dalam notebook Anda untuk mengambil data dari Play Store dan melanjutkan dengan analisis sentimen."
   ]
  },
  {
   "cell_type": "markdown",
   "id": "f57f33ff",
   "metadata": {},
   "source": [
    "# Scapping Dataset\n",
    "\n",
    "Pada proyek ini, kita akan melakukan analisis sentimen terhadap ulasan dan pendapat pengguna terkait aplikasi \"BY.U\" di Play Store. Analisis sentimen akan membantu kita untuk memahami bagaimana pengguna merasakan dan mengungkapkan pandangan mereka terhadap aplikasi ini.\n",
    "\n",
    "Dengan menggunakan berbagai teknik pemrosesan teks dan algoritma machine learning, kita akan mencoba mengidentifikasi apakah ulasan pengguna terhadap aplikasi \"Youtube\" cenderung positif, negatif, atau netral. Hasil analisis sentimen ini dapat memberikan wawasan berharga kepada pengembang aplikasi untuk meningkatkan pengalaman pengguna. Mari kita mulai menjelajahi ulasan pengguna dan menganalisis sentimen di sekitar aplikasi \"BY.U\" dengan lebih mendalam."
   ]
  },
  {
   "cell_type": "code",
   "execution_count": 3,
   "id": "86aad871",
   "metadata": {},
   "outputs": [],
   "source": [
    "# Mengambil semua ulasan dari aplikasi dengan ID 'com.byu.id' di Google Play Store.\n",
    "# Proses scraping mungkin memerlukan beberapa saat tergantung pada jumlah ulasan yang ada.\n",
    "scrapreview = reviews_all(\n",
    "    'com.google.android.youtube',   # ID aplikasi\n",
    "    lang='id',                      # Bahasa ulasan (default: 'en')\n",
    "    country='id',                   # Negara (default: 'us')\n",
    "    sort=Sort.MOST_RELEVANT,        # Urutan ulasan (default: Sort.MOST_RELEVANT)\n",
    "    count=11000                     # Jumlah maksimum ulasan yang ingin diambil\n",
    ")"
   ]
  },
  {
   "cell_type": "code",
   "execution_count": 4,
   "id": "85b98d13",
   "metadata": {},
   "outputs": [],
   "source": [
    "with open('ulasan_aplikasi.csv', mode='w', newline='', encoding='utf-8') as file:\n",
    "    writer = csv.writer(file)\n",
    "    writer.writerow(['Review'])  # Menulis header kolom\n",
    "    for review in scrapreview:\n",
    "        writer.writerow([review['content']])  # Menulis konten ulasan ke dalam file CSV"
   ]
  },
  {
   "cell_type": "markdown",
   "id": "7c674725",
   "metadata": {},
   "source": [
    "# Loading Dataset"
   ]
  },
  {
   "cell_type": "code",
   "execution_count": 5,
   "id": "cce76938",
   "metadata": {},
   "outputs": [],
   "source": [
    "app_reviews_df = pd.DataFrame(scrapreview)\n",
    "app_reviews_df.shape\n",
    "app_reviews_df.head()\n",
    "app_reviews_df.to_csv('ulasan_aplikasi.csv', index=False)"
   ]
  },
  {
   "cell_type": "code",
   "execution_count": 6,
   "id": "9f37aa17",
   "metadata": {},
   "outputs": [],
   "source": [
    "# Membuat DataFrame dari hasil scrapreview\n",
    "app_reviews_df = pd.DataFrame(scrapreview)\n",
    "\n",
    "# Menghitung jumlah baris dan kolom dalam DataFrame\n",
    "jumlah_ulasan, jumlah_kolom = app_reviews_df.shape\n"
   ]
  },
  {
   "cell_type": "code",
   "execution_count": 7,
   "id": "222c5a3b",
   "metadata": {},
   "outputs": [
    {
     "data": {
      "text/html": [
       "<div>\n",
       "<style scoped>\n",
       "    .dataframe tbody tr th:only-of-type {\n",
       "        vertical-align: middle;\n",
       "    }\n",
       "\n",
       "    .dataframe tbody tr th {\n",
       "        vertical-align: top;\n",
       "    }\n",
       "\n",
       "    .dataframe thead th {\n",
       "        text-align: right;\n",
       "    }\n",
       "</style>\n",
       "<table border=\"1\" class=\"dataframe\">\n",
       "  <thead>\n",
       "    <tr style=\"text-align: right;\">\n",
       "      <th></th>\n",
       "      <th>reviewId</th>\n",
       "      <th>userName</th>\n",
       "      <th>userImage</th>\n",
       "      <th>content</th>\n",
       "      <th>score</th>\n",
       "      <th>thumbsUpCount</th>\n",
       "      <th>reviewCreatedVersion</th>\n",
       "      <th>at</th>\n",
       "      <th>replyContent</th>\n",
       "      <th>repliedAt</th>\n",
       "      <th>appVersion</th>\n",
       "    </tr>\n",
       "  </thead>\n",
       "  <tbody>\n",
       "    <tr>\n",
       "      <th>0</th>\n",
       "      <td>922b194e-08dc-459d-9b66-e7aa764b741f</td>\n",
       "      <td>Pengguna Google</td>\n",
       "      <td>https://play-lh.googleusercontent.com/EGemoI2N...</td>\n",
       "      <td>Tolong buat admin YouTube iklannya ditambahkan...</td>\n",
       "      <td>1</td>\n",
       "      <td>1</td>\n",
       "      <td>16.49.37</td>\n",
       "      <td>2022-10-23 13:49:08</td>\n",
       "      <td>None</td>\n",
       "      <td>None</td>\n",
       "      <td>16.49.37</td>\n",
       "    </tr>\n",
       "    <tr>\n",
       "      <th>1</th>\n",
       "      <td>311cbe58-d282-43bc-96dc-fbe18461c44a</td>\n",
       "      <td>Pengguna Google</td>\n",
       "      <td>https://play-lh.googleusercontent.com/EGemoI2N...</td>\n",
       "      <td>sebelumnya youtube short bisa menampilkan semu...</td>\n",
       "      <td>2</td>\n",
       "      <td>70</td>\n",
       "      <td>20.15.38</td>\n",
       "      <td>2025-04-22 19:48:12</td>\n",
       "      <td>None</td>\n",
       "      <td>None</td>\n",
       "      <td>20.15.38</td>\n",
       "    </tr>\n",
       "    <tr>\n",
       "      <th>2</th>\n",
       "      <td>6e2f0356-a42e-4327-a5da-3614990403b0</td>\n",
       "      <td>Pengguna Google</td>\n",
       "      <td>https://play-lh.googleusercontent.com/EGemoI2N...</td>\n",
       "      <td>youtube sekarang jadi aplikasi sampah, banyak ...</td>\n",
       "      <td>1</td>\n",
       "      <td>743</td>\n",
       "      <td>20.16.36</td>\n",
       "      <td>2025-04-21 21:26:23</td>\n",
       "      <td>None</td>\n",
       "      <td>None</td>\n",
       "      <td>20.16.36</td>\n",
       "    </tr>\n",
       "    <tr>\n",
       "      <th>3</th>\n",
       "      <td>f139a6f8-864c-4eab-96a0-0ff840741c90</td>\n",
       "      <td>Pengguna Google</td>\n",
       "      <td>https://play-lh.googleusercontent.com/EGemoI2N...</td>\n",
       "      <td>sejauh ini sya tidak mempersalahkan iklan, mal...</td>\n",
       "      <td>4</td>\n",
       "      <td>96</td>\n",
       "      <td>20.15.38</td>\n",
       "      <td>2025-04-21 14:30:24</td>\n",
       "      <td>None</td>\n",
       "      <td>None</td>\n",
       "      <td>20.15.38</td>\n",
       "    </tr>\n",
       "    <tr>\n",
       "      <th>4</th>\n",
       "      <td>c2b0c183-1097-40dc-84d6-6c2da80caa9e</td>\n",
       "      <td>Pengguna Google</td>\n",
       "      <td>https://play-lh.googleusercontent.com/EGemoI2N...</td>\n",
       "      <td>Sering Nemu bug, video yang diupload kadangpun...</td>\n",
       "      <td>1</td>\n",
       "      <td>18</td>\n",
       "      <td>20.15.38</td>\n",
       "      <td>2025-04-23 02:17:48</td>\n",
       "      <td>None</td>\n",
       "      <td>None</td>\n",
       "      <td>20.15.38</td>\n",
       "    </tr>\n",
       "  </tbody>\n",
       "</table>\n",
       "</div>"
      ],
      "text/plain": [
       "                               reviewId         userName  \\\n",
       "0  922b194e-08dc-459d-9b66-e7aa764b741f  Pengguna Google   \n",
       "1  311cbe58-d282-43bc-96dc-fbe18461c44a  Pengguna Google   \n",
       "2  6e2f0356-a42e-4327-a5da-3614990403b0  Pengguna Google   \n",
       "3  f139a6f8-864c-4eab-96a0-0ff840741c90  Pengguna Google   \n",
       "4  c2b0c183-1097-40dc-84d6-6c2da80caa9e  Pengguna Google   \n",
       "\n",
       "                                           userImage  \\\n",
       "0  https://play-lh.googleusercontent.com/EGemoI2N...   \n",
       "1  https://play-lh.googleusercontent.com/EGemoI2N...   \n",
       "2  https://play-lh.googleusercontent.com/EGemoI2N...   \n",
       "3  https://play-lh.googleusercontent.com/EGemoI2N...   \n",
       "4  https://play-lh.googleusercontent.com/EGemoI2N...   \n",
       "\n",
       "                                             content  score  thumbsUpCount  \\\n",
       "0  Tolong buat admin YouTube iklannya ditambahkan...      1              1   \n",
       "1  sebelumnya youtube short bisa menampilkan semu...      2             70   \n",
       "2  youtube sekarang jadi aplikasi sampah, banyak ...      1            743   \n",
       "3  sejauh ini sya tidak mempersalahkan iklan, mal...      4             96   \n",
       "4  Sering Nemu bug, video yang diupload kadangpun...      1             18   \n",
       "\n",
       "  reviewCreatedVersion                  at replyContent repliedAt appVersion  \n",
       "0             16.49.37 2022-10-23 13:49:08         None      None   16.49.37  \n",
       "1             20.15.38 2025-04-22 19:48:12         None      None   20.15.38  \n",
       "2             20.16.36 2025-04-21 21:26:23         None      None   20.16.36  \n",
       "3             20.15.38 2025-04-21 14:30:24         None      None   20.15.38  \n",
       "4             20.15.38 2025-04-23 02:17:48         None      None   20.15.38  "
      ]
     },
     "execution_count": 7,
     "metadata": {},
     "output_type": "execute_result"
    }
   ],
   "source": [
    "# Menampilkan lima baris pertama dari DataFrame app_reviews_df\n",
    "app_reviews_df.head()"
   ]
  },
  {
   "cell_type": "code",
   "execution_count": 8,
   "id": "1cca95a2",
   "metadata": {},
   "outputs": [
    {
     "name": "stdout",
     "output_type": "stream",
     "text": [
      "<class 'pandas.core.frame.DataFrame'>\n",
      "RangeIndex: 22500 entries, 0 to 22499\n",
      "Data columns (total 11 columns):\n",
      " #   Column                Non-Null Count  Dtype         \n",
      "---  ------                --------------  -----         \n",
      " 0   reviewId              22500 non-null  object        \n",
      " 1   userName              22500 non-null  object        \n",
      " 2   userImage             22500 non-null  object        \n",
      " 3   content               22500 non-null  object        \n",
      " 4   score                 22500 non-null  int64         \n",
      " 5   thumbsUpCount         22500 non-null  int64         \n",
      " 6   reviewCreatedVersion  22320 non-null  object        \n",
      " 7   at                    22500 non-null  datetime64[ns]\n",
      " 8   replyContent          0 non-null      object        \n",
      " 9   repliedAt             0 non-null      object        \n",
      " 10  appVersion            22320 non-null  object        \n",
      "dtypes: datetime64[ns](1), int64(2), object(8)\n",
      "memory usage: 1.9+ MB\n"
     ]
    }
   ],
   "source": [
    "# Menampilkan informasi tentang DataFrame app_reviews_df\n",
    "app_reviews_df.info()"
   ]
  }
 ],
 "metadata": {
  "kernelspec": {
   "display_name": "main-ds",
   "language": "python",
   "name": "python3"
  },
  "language_info": {
   "codemirror_mode": {
    "name": "ipython",
    "version": 3
   },
   "file_extension": ".py",
   "mimetype": "text/x-python",
   "name": "python",
   "nbconvert_exporter": "python",
   "pygments_lexer": "ipython3",
   "version": "3.9.21"
  }
 },
 "nbformat": 4,
 "nbformat_minor": 5
}
